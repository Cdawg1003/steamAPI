{
 "cells": [
  {
   "cell_type": "code",
   "execution_count": 8,
   "metadata": {},
   "outputs": [],
   "source": [
    "#pip install python-steam-api\n",
    "from bs4 import BeautifulSoup\n",
    "from selenium import webdriver\n",
    "from selenium.webdriver.common.by import By\n",
    "from selenium.webdriver.common.keys import Keys\n",
    "from selenium.webdriver import ActionChains\n",
    "import requests\n",
    "import time\n",
    "import pandas as pd\n",
    "import numpy as np\n",
    "import json\n",
    "import pickleshare"
   ]
  },
  {
   "cell_type": "markdown",
   "metadata": {},
   "source": [
    "The following chunk runs a selenium browser to open up steams most played games and create a list of links to those game pages. \n",
    "Then it extracts the app_id of the game and appends it to our api link to create a list of api's with the app ids we are interested in. "
   ]
  },
  {
   "cell_type": "code",
   "execution_count": 9,
   "metadata": {},
   "outputs": [
    {
     "name": "stdout",
     "output_type": "stream",
     "text": [
      "200 https://store.steampowered.com/charts/mostplayed/\n",
      "['730', '570', '578080', '2246340', '3241660', '252490', '2767030', '359550', '271590', '2669320', '236390', '1172470', '3240220', '1086940', '221100', '2252570', '2943650', '1771300', '431960', '1366800', '413150', '1938090', '440', '230410', '394360', '227300', '2507950', '1245620', '2923300', '1222670', '381210', '2429640', '1174180', '1782210', '1085660', '553850', '892970', '289070', '1091500', '629520', '2694490', '438100', '2001120', '105600', '2300320', '1281930', '489830', '1623730', '108600', '346110', '252950', '251570', '3205720', '3419430', '250900', '2399830', '4000', '1142710', '1158310', '294100', '2379780', '2357570', '739630', '526870', '550', '284160', '238960', '1203220', '427520', '1326470', '322170', '322330', '813780', '2139460', '393380', '582660', '379430', '1295660', '1238840', '236850', '39210', '513710', '261550', '582010', '2878980', '292030', '8930', '1449850', '377160', '2074920', '10', '240', '990080', '306130', '242760', '1905180', '1623660', '1551360', '1454400', '916440']\n"
     ]
    }
   ],
   "source": [
    "user_agent = \"Microsoft Edge UA string:Mozilla/5.0 (Windows NT 10.0) AppleWebKit/537.36 (KHTML, like Gecko) Chrome/42.0.2311.135 Safari/537.36 Edge/12.10136\"\n",
    "options = webdriver.EdgeOptions()\n",
    "options.add_argument('user-agent={0}'.format(user_agent))\n",
    "options.add_argument(\"--headless=new\")\n",
    "\n",
    "driver = webdriver.Edge()\n",
    "\n",
    "url = \"https://store.steampowered.com/charts/mostplayed/\"\n",
    "\n",
    "links = []\n",
    "app_ids = []\n",
    "\n",
    "def get_app_ids(url, rec=False):\n",
    "    page = driver.get(url)\n",
    "    response = requests.get(url, user_agent)\n",
    "    print(response.status_code, url)\n",
    "\n",
    "\n",
    "    time.sleep(2)\n",
    "\n",
    "    driver.find_element(By.TAG_NAME, \"body\").send_keys(Keys.PAGE_DOWN) \n",
    "\n",
    "        \n",
    "    soup = BeautifulSoup(driver.page_source, \"html\")\n",
    "\n",
    "    chart = soup.find(\"div\", class_ = \"_1A7NagdRz58_o8HPHMa3eE\").find(\"table\", class_ = \"_3arZn0BMPzyhcYNADe193m\")\n",
    "\n",
    "    for ls in chart.find_all(\"td\"):\n",
    "        try:  \n",
    "            link = (ls.find(\"a\", href = True)[\"href\"])\n",
    "            links.append(link)\n",
    "            app_id = link.split('/')[4]\n",
    "            app_ids.append(app_id)\n",
    "\n",
    "        except Exception as e:   \n",
    "            None\n",
    "\n",
    "get_app_ids(url)\n",
    "    \n",
    "print(app_ids)\n",
    "\n",
    "\n",
    "driver.quit()"
   ]
  },
  {
   "cell_type": "code",
   "execution_count": 10,
   "metadata": {},
   "outputs": [
    {
     "name": "stdout",
     "output_type": "stream",
     "text": [
      "Stored 'app_ids' (list)\n"
     ]
    }
   ],
   "source": [
    "%store app_ids"
   ]
  },
  {
   "cell_type": "code",
   "execution_count": 11,
   "metadata": {},
   "outputs": [],
   "source": [
    "from sqlalchemy import Table, Column, Integer, String, ForeignKey, Date, URL\n",
    "from typing import List\n",
    "from typing import Optional\n",
    "from sqlalchemy import create_engine\n",
    "from sqlalchemy import text\n",
    "from sqlalchemy import create_engine\n",
    "from sqlalchemy.orm import DeclarativeBase\n",
    "from sqlalchemy.orm import Mapped\n",
    "from sqlalchemy.orm import mapped_column\n",
    "from sqlalchemy.orm import relationship\n",
    "from sqlalchemy.orm import sessionmaker\n",
    "\n",
    "db_url = URL.create(\n",
    "    drivername='postgresql+psycopg2', \n",
    "    username = 'postgres', \n",
    "    password='CbassEngineering1003.', \n",
    "    host='localhost', \n",
    "    port=\"5432\", \n",
    "    database='steam_games_details'\n",
    ")\n",
    "\n",
    "engine = create_engine(db_url, pool_pre_ping=True)\n",
    "\n",
    "Base = DeclarativeBase\n",
    "\n",
    "class Base(DeclarativeBase): \n",
    "    pass\n",
    "\n",
    "class steamGames(Base): \n",
    "    __tablename__ = 'games'\n",
    "    gameid = mapped_column(Integer, primary_key=True)\n",
    "    name = mapped_column(String)\n",
    "    description = mapped_column(String)\n",
    "    price = mapped_column(String)\n",
    "    date = mapped_column(String)\n",
    "    \n",
    "Base.metadata.create_all(engine)\n",
    "Session = sessionmaker(engine)\n",
    "session = Session()"
   ]
  },
  {
   "cell_type": "markdown",
   "metadata": {},
   "source": [
    "We now want to create a function to run all of the collected api links to retreive data from the api and place it into a dataframe. "
   ]
  },
  {
   "cell_type": "code",
   "execution_count": 12,
   "metadata": {},
   "outputs": [],
   "source": [
    "def get_game_details(app_id):\n",
    "    url = f\"https://store.steampowered.com/api/appdetails?appids={app_id}\"\n",
    "    headers = {\"user-agent\": \"Mozilla/5.0 (Windows NT 10.0; Win64; x64) AppleWebKit/537.36 (KHTML, like Gecko) Chrome/106.0.0.0 Safari/537.36\",\"x-requested-with\":\"XMLHttpRequest\"} # add x-requested-with headers here to make sure the output is json format\n",
    "\n",
    "    response = requests.get(url, headers=headers)\n",
    "    data = response.json()\n",
    "\n",
    "    if data[str(app_id)]['success']:\n",
    "        game_data = data[str(app_id)]['data']\n",
    "\n",
    "        return game_data"
   ]
  },
  {
   "cell_type": "code",
   "execution_count": 13,
   "metadata": {},
   "outputs": [],
   "source": [
    "for app_id in app_ids:\n",
    "    game_data = get_game_details(app_id)\n",
    "    if 'release_date' in game_data:\n",
    "        date = game_data['release_date']['date']\n",
    "    else:\n",
    "        date = 'coming soon'\n",
    "    if 'price_overview' in game_data:\n",
    "            price = game_data['price_overview']['final_formatted']\n",
    "    else:\n",
    "        price = 'Free' if game_data['is_free'] else 'price not available'\n",
    "    steam_games = steamGames(\n",
    "    gameid = game_data['steam_appid'],\n",
    "    name = game_data['name'],\n",
    "    description = game_data['short_description'], \n",
    "    price = price, \n",
    "    date = date) \n",
    "    session.add(steam_games)\n",
    "\n",
    "\n",
    "try: \n",
    "     session.commit()\n",
    "except: \n",
    "     session.rollback()\n",
    "    "
   ]
  },
  {
   "cell_type": "code",
   "execution_count": 15,
   "metadata": {},
   "outputs": [
    {
     "name": "stdout",
     "output_type": "stream",
     "text": [
      "570 Dota 2 Free\n"
     ]
    }
   ],
   "source": [
    "from sqlalchemy import select\n",
    "\n",
    "stmt = select(steamGames).where(steamGames.gameid == \"570\")\n",
    "result = session.execute(stmt)\n",
    "\n",
    "for steamGames_obj in result.scalars(): \n",
    "    print(f\"{steamGames_obj.gameid} {steamGames_obj.name} {steamGames_obj.price}\")"
   ]
  }
 ],
 "metadata": {
  "kernelspec": {
   "display_name": "Python 3",
   "language": "python",
   "name": "python3"
  },
  "language_info": {
   "codemirror_mode": {
    "name": "ipython",
    "version": 3
   },
   "file_extension": ".py",
   "mimetype": "text/x-python",
   "name": "python",
   "nbconvert_exporter": "python",
   "pygments_lexer": "ipython3",
   "version": "3.12.6"
  }
 },
 "nbformat": 4,
 "nbformat_minor": 2
}
